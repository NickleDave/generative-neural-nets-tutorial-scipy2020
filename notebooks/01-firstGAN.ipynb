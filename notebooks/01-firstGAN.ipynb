{
 "cells": [
  {
   "cell_type": "markdown",
   "metadata": {},
   "source": [
    "# Building and training your first GAN with PyTorch\n",
    "\n",
    "![overviewgan](../images/overview.png \"https://arxiv.org/pdf/1710.07035.pdf\")"
   ]
  },
  {
   "cell_type": "markdown",
   "metadata": {},
   "source": [
    "## First: The Discriminator\n",
    "This guy is just like any other Neural Network"
   ]
  },
  {
   "cell_type": "code",
   "execution_count": 1,
   "metadata": {},
   "outputs": [
    {
     "name": "stdout",
     "output_type": "stream",
     "text": [
      "Overwriting discriminator.py\n"
     ]
    }
   ],
   "source": [
    "%%writefile discriminator.py\n",
    "from torch import nn\n",
    "#from utils import utils\n",
    "\n",
    "class _D(nn.Module):\n",
    "    \"\"\" Discriminator class\"\"\"\n",
    "    def __init__(self, input_h_w=28):\n",
    "        super(_D, self).__init__()     \n",
    "        self.input_height = input_h_w\n",
    "        self.input_width = input_h_w\n",
    "        self.input_dim = 1\n",
    "        self.output_dim = 1\n",
    "        \n",
    "        self.conv = nn.Sequential(\n",
    "            nn.Conv2d(self.input_dim, 64, 4, 2, 1),\n",
    "            nn.LeakyReLU(0.2),\n",
    "            nn.Conv2d(64, 128, 4, 2, 1),\n",
    "            nn.BatchNorm2d(128),\n",
    "            nn.LeakyReLU(0.2),\n",
    "        )\n",
    "        self.fc = nn.Sequential(\n",
    "            nn.Linear(128 * (self.input_height // 4) * (self.input_width // 4), 1024),\n",
    "            nn.BatchNorm1d(1024),\n",
    "            nn.LeakyReLU(0.2),\n",
    "            nn.Linear(1024, self.output_dim),\n",
    "            nn.Sigmoid(),\n",
    "        )\n",
    "        # initialize_weights(self)\n",
    "\n",
    "    def forward(self, input_):\n",
    "        x = self.conv(input_)\n",
    "        x = x.view(-1, 128 * (self.input_height // 4) * (self.input_width // 4))\n",
    "        x = self.fc(x)\n",
    "\n",
    "        return x"
   ]
  },
  {
   "cell_type": "markdown",
   "metadata": {},
   "source": [
    "\n",
    "    + live-coding demo, 20m: writing a supervised learning training loop\n",
    "      - how do we fit this thing?\n",
    "      \n",
    "      - train with MNIST (or some simple dataset) using SGD\n",
    "      - introduce datasets n' dataloaders: your friends\n",
    "      - creating a criterion\n",
    "      - in the bad old days, we made batches by hand from artisanal numpy matrices\n",
    "      - writing the training loop\n",
    "      - computing the loss\n",
    "      - logging the loss\n",
    "\n",
    "    + *hands-on* "
   ]
  },
  {
   "cell_type": "markdown",
   "metadata": {},
   "source": [
    "## Second: The Generator"
   ]
  },
  {
   "cell_type": "code",
   "execution_count": 2,
   "metadata": {},
   "outputs": [
    {
     "name": "stdout",
     "output_type": "stream",
     "text": [
      "Overwriting generator.py\n"
     ]
    }
   ],
   "source": [
    "%%writefile generator.py\n",
    "from torch import nn\n",
    "#from utils import utils\n",
    "\n",
    "class _G(nn.Module):\n",
    "    \"\"\"Generator class\"\"\"\n",
    "    def __init__(self, input_h_w=28, latent_v=62):\n",
    "        super(_G, self).__init__()\n",
    "        self.input_height = input_h_w\n",
    "        self.input_width = input_h_w\n",
    "        self.input_dim = latent_v\n",
    "        self.output_dim = 1\n",
    "\n",
    "        self.fc = nn.Sequential(\n",
    "            nn.Linear(self.input_dim, 1024),\n",
    "            nn.BatchNorm1d(1024),\n",
    "            nn.ReLU(),\n",
    "            nn.Linear(1024, 128 * (self.input_height // 4) * (self.input_width // 4)),\n",
    "            nn.BatchNorm1d(128 * (self.input_height // 4) * (self.input_width // 4)),\n",
    "            nn.ReLU(),\n",
    "        )\n",
    "        self.deconv = nn.Sequential(\n",
    "            nn.ConvTranspose2d(128, 64, 4, 2, 1),\n",
    "            nn.BatchNorm2d(64),\n",
    "            nn.ReLU(),\n",
    "            nn.ConvTranspose2d(64, self.output_dim, 4, 2, 1),\n",
    "            nn.Sigmoid(),\n",
    "        )\n",
    "        # initialize_weights(self)\n",
    "\n",
    "    def forward(self, input):\n",
    "        x = self.fc(input)\n",
    "        x = x.view(-1, 128, (self.input_height // 4), (self.input_width // 4))\n",
    "        x = self.deconv(x)\n",
    "\n",
    "        return x"
   ]
  },
  {
   "cell_type": "markdown",
   "metadata": {},
   "source": [
    "A little hack on weights initialization .."
   ]
  },
  {
   "cell_type": "code",
   "execution_count": 11,
   "metadata": {},
   "outputs": [],
   "source": [
    "# TODO this should be moved to utils.py\n",
    "\n",
    "def initialize_weights(net):\n",
    "    for m in net.modules():\n",
    "        if isinstance(m, nn.Conv2d):\n",
    "            m.weight.data.normal_(0, 0.02)\n",
    "            m.bias.data.zero_()\n",
    "        elif isinstance(m, nn.ConvTranspose2d):\n",
    "            m.weight.data.normal_(0, 0.02)\n",
    "            m.bias.data.zero_()\n",
    "        elif isinstance(m, nn.Linear):\n",
    "            m.weight.data.normal_(0, 0.02)\n",
    "            m.bias.data.zero_()"
   ]
  },
  {
   "cell_type": "markdown",
   "metadata": {},
   "source": [
    "## The Data "
   ]
  },
  {
   "cell_type": "markdown",
   "metadata": {},
   "source": [
    "<div class=\"alert alert-block alert-success\">\n",
    "<b>torchvision</b> The package consists of popular datasets, model architectures, and common image transformations for computer vision.\n",
    "</div>"
   ]
  },
  {
   "cell_type": "code",
   "execution_count": 3,
   "metadata": {},
   "outputs": [],
   "source": [
    "import torchvision\n",
    "from torch.autograd import Variable\n",
    "from torchvision import datasets\n",
    "from torchvision import transforms as tfs\n",
    "from torch.utils import data"
   ]
  },
  {
   "cell_type": "code",
   "execution_count": 4,
   "metadata": {},
   "outputs": [],
   "source": [
    "ts_list = [tfs.RandomAffine(0., scale=(0.75, 1.), fillcolor=0),\n",
    "           tfs.Resize((28, 28)),\n",
    "           tfs.Grayscale(1), tfs.ToTensor()]"
   ]
  },
  {
   "cell_type": "code",
   "execution_count": 5,
   "metadata": {},
   "outputs": [],
   "source": [
    "imagenet_data = datasets.ImageFolder('../data/egyptian_text/',\n",
    "                                     transform=tfs.Compose(ts_list))\n",
    "\n",
    "data_loader = data.DataLoader(imagenet_data, batch_size=32, shuffle=True)"
   ]
  },
  {
   "cell_type": "code",
   "execution_count": 6,
   "metadata": {},
   "outputs": [],
   "source": [
    "import matplotlib.pyplot as plt\n",
    "import numpy as np"
   ]
  },
  {
   "cell_type": "code",
   "execution_count": 7,
   "metadata": {},
   "outputs": [
    {
     "data": {
      "text/plain": [
       "<matplotlib.image.AxesImage at 0x12e87d6d0>"
      ]
     },
     "execution_count": 7,
     "metadata": {},
     "output_type": "execute_result"
    },
    {
     "data": {
      "image/png": "[encoded data removed]",
      "text/plain": [
       "<Figure size 432x288 with 1 Axes>"
      ]
     },
     "metadata": {
      "needs_background": "light"
     },
     "output_type": "display_data"
    }
   ],
   "source": [
    "dataiter = iter(data_loader)\n",
    "images = dataiter.next()\n",
    "\n",
    "# show images\n",
    "plt.imshow(torchvision.utils.make_grid(images[0], nrow=4).permute(1, 2, 0))"
   ]
  },
  {
   "cell_type": "markdown",
   "metadata": {},
   "source": [
    "## how do we train a GAN?\n",
    "![overviewgan](../images/mainloop.png \"https://arxiv.org/pdf/1710.07035.pdf\")"
   ]
  },
  {
   "cell_type": "code",
   "execution_count": 11,
   "metadata": {},
   "outputs": [],
   "source": [
    "from discriminator import _D\n",
    "from generator import _G"
   ]
  },
  {
   "cell_type": "markdown",
   "metadata": {},
   "source": [
    "### Lets instantiate each network and define optimizers and loss functions"
   ]
  },
  {
   "cell_type": "code",
   "execution_count": 9,
   "metadata": {},
   "outputs": [],
   "source": [
    "epochs = 10\n",
    "batch_size = 32\n",
    "z_dim = 64\n",
    "train_hist = {'G_loss':[], 'D_loss':[]}"
   ]
  },
  {
   "cell_type": "code",
   "execution_count": 12,
   "metadata": {},
   "outputs": [],
   "source": [
    "import torch\n",
    "from torch import nn, optim\n",
    "\n",
    "D = _D(input_h_w=28)\n",
    "G = _G(input_h_w=28, latent_v=64) \n",
    "\n",
    "G_optimizer = optim.Adam(G.parameters(),\n",
    "                              lr=0.0002, betas=(0.5, 0.999))\n",
    "D_optimizer = optim.Adam(D.parameters(),\n",
    "                              lr=0.0002, betas=(0.5, 0.999))\n",
    "\n",
    "BCE_loss = nn.BCELoss()"
   ]
  },
  {
   "cell_type": "code",
   "execution_count": 13,
   "metadata": {},
   "outputs": [],
   "source": [
    "# Define true and false labels\n",
    "y_real_, y_fake_ = Variable(torch.ones(batch_size, 1)), \\\n",
    "                   Variable(torch.zeros(batch_size, 1))"
   ]
  },
  {
   "cell_type": "code",
   "execution_count": null,
   "metadata": {},
   "outputs": [],
   "source": [
    "D.train()\n",
    "for epoch in range(epochs):\n",
    "    G.train()\n",
    "    for iter_,  (x_, _) in enumerate(data_loader):\n",
    "        # create the noise source\n",
    "        z_ = torch.rand((batch_size, z_dim))\n",
    "        # load real sample and noise vector\n",
    "        x_, z_ = Variable(x_), Variable(z_)\n",
    "\n",
    "        # -----> update D network\n",
    "        D_optimizer.zero_grad()\n",
    "\n",
    "        D_real = D(x_)\n",
    "        D_real_loss = BCE_loss(D_real, y_real_)\n",
    "\n",
    "        G_ = G(z_)\n",
    "        D_fake = D(G_)\n",
    "        D_fake_loss = BCE_loss(D_fake, y_fake_)\n",
    "\n",
    "        D_loss = D_real_loss + D_fake_loss\n",
    "        train_hist['D_loss'].append(D_loss.item())\n",
    "\n",
    "        D_loss.backward()\n",
    "        D_optimizer.step()\n",
    "\n",
    "        # -----> update G network\n",
    "        G_optimizer.zero_grad()\n",
    "\n",
    "        G_ = G(z_)\n",
    "        D_fake = D(G_)\n",
    "        G_loss = BCE_loss(D_fake, y_real_)\n",
    "        train_hist['G_loss'].append(G_loss.item()) # TODO I think now is item()\n",
    "\n",
    "        G_loss.backward()\n",
    "        G_optimizer.step()\n"
   ]
  },
  {
   "cell_type": "markdown",
   "metadata": {},
   "source": [
    "<div class=\"alert alert-block alert-info\">\n",
    "<b>Exercise:</b> Adding to your Discriminator, putting some label smoothing in your training loop (GAN hack!).</div>"
   ]
  }
 ],
 "metadata": {
  "kernelspec": {
   "display_name": "gantutorial",
   "language": "python",
   "name": "gantutorial"
  },
  "language_info": {
   "codemirror_mode": {
    "name": "ipython",
    "version": 3
   },
   "file_extension": ".py",
   "mimetype": "text/x-python",
   "name": "python",
   "nbconvert_exporter": "python",
   "pygments_lexer": "ipython3",
   "version": "3.7.4"
  }
 },
 "nbformat": 4,
 "nbformat_minor": 4
}
