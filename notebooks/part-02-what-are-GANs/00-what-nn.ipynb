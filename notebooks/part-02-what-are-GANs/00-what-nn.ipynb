{
 "cells": [
  {
   "cell_type": "markdown",
   "metadata": {},
   "source": [
    "# Let's build a simple numpy-based NN to classify MNIST"
   ]
  },
  {
   "cell_type": "markdown",
   "metadata": {},
   "source": [
    "### Upload the dataset"
   ]
  },
  {
   "cell_type": "code",
   "execution_count": 5,
   "metadata": {},
   "outputs": [],
   "source": [
    "import h5py\n",
    "import numpy as np\n",
    "\n",
    "# load MNIST data\n",
    "MNIST_data = h5py.File(\"../../data/MNIST/MNISTdata.hdf5\", 'r')\n",
    "x_train = np.float32(MNIST_data['x_train'][:])\n",
    "y_train = np.int32(np.array(MNIST_data['y_train'][:, 0])).reshape(-1, 1)\n",
    "x_test  = np.float32(MNIST_data['x_test'][:])\n",
    "y_test  = np.int32(np.array(MNIST_data['y_test'][:, 0])).reshape(-1, 1)\n",
    "MNIST_data.close()\n",
    "\n",
    "# stack together for next step\n",
    "X = np.vstack((x_train, x_test))\n",
    "y = np.vstack((y_train, y_test))\n",
    "\n",
    "# one-hot encoding\n",
    "digits = 10\n",
    "examples = y.shape[0]\n",
    "y = y.reshape(1, examples)\n",
    "Y_new = np.eye(digits)[y.astype('int32')]\n",
    "Y_new = Y_new.T.reshape(digits, examples)\n",
    "\n",
    "# number of training set\n",
    "m = 60000\n",
    "m_test = X.shape[0] - m\n",
    "X_train, X_test = X[:m].T, X[m:].T\n",
    "Y_train, Y_test = Y_new[:, :m], Y_new[:, m:]\n",
    "\n",
    "# shuffle training set\n",
    "shuffle_index = np.random.permutation(m)\n",
    "X_train, Y_train = X_train[:, shuffle_index], Y_train[:, shuffle_index]"
   ]
  },
  {
   "cell_type": "code",
   "execution_count": 17,
   "metadata": {},
   "outputs": [
    {
     "data": {
      "text/plain": [
       "((784, 60000), (10, 60000), (784, 10000), (10, 10000))"
      ]
     },
     "execution_count": 17,
     "metadata": {},
     "output_type": "execute_result"
    }
   ],
   "source": [
    "X_train.shape, Y_train.shape, X_test.shape, Y_test.shape"
   ]
  },
  {
   "cell_type": "code",
   "execution_count": 18,
   "metadata": {},
   "outputs": [],
   "source": [
    "assert X_train.shape[1] ==  Y_train.shape[1]\n",
    "assert X_test.shape[1] ==  Y_test.shape[1]"
   ]
  },
  {
   "cell_type": "markdown",
   "metadata": {},
   "source": [
    "### Weight Initialization\n",
    "The outputs from a randomly initialized neuron has a variance that grows with the number of inputs. It turns out that we can normalize the variance of each neuron’s output to $1$ by scaling its weight vector by the square root of its number of inputs. \n",
    "\n",
    "That is, the recommended heuristic is to initialize each neuron’s weight vector as: \n",
    "$w = \\frac{\\mathbb{N}(n)} {\\sqrt(n)}$, where $ n $ is the number of its inputs.\n",
    "\n",
    "This ensures that all neurons in the network initially have approximately the same output distribution and empirically improves the rate of convergence."
   ]
  },
  {
   "cell_type": "code",
   "execution_count": 55,
   "metadata": {},
   "outputs": [],
   "source": [
    "classes = 10\n",
    "input_n = 784 # (28 x 28)\n",
    "hidden_n = 64\n",
    "\n",
    "params = {\"W1\": np.random.randn(hidden_n, input_n) * np.sqrt(1. / input_n),\n",
    "          \"b1\": np.zeros((hidden_n, 1)) * np.sqrt(1. / input_n),\n",
    "          \"W2\": np.random.randn(classes, hidden_n) * np.sqrt(1. / hidden_n),\n",
    "          \"b2\": np.zeros((classes, 1)) * np.sqrt(1. / hidden_n)}"
   ]
  },
  {
   "cell_type": "markdown",
   "metadata": {},
   "source": [
    "### Activation Functions\n",
    "This curve has a finite limit of:\n",
    "\n",
    "‘0’ as $ x $ approaches $ - \\infty $\n",
    "‘1’ as $ x $ approaches $ + \\infty $"
   ]
  },
  {
   "cell_type": "code",
   "execution_count": 20,
   "metadata": {},
   "outputs": [],
   "source": [
    "def sigmoid(z):\n",
    "    s = 1. / (1. + np.exp(-z))\n",
    "    return s\n",
    "\n",
    "def softmax(z):\n",
    "    return np.exp(z) / np.sum(np.exp(z), axis=0, keepdims=True)"
   ]
  },
  {
   "cell_type": "code",
   "execution_count": 23,
   "metadata": {},
   "outputs": [
    {
     "data": {
      "text/plain": [
       "[<matplotlib.lines.Line2D at 0x7fbfa629dc18>]"
      ]
     },
     "execution_count": 23,
     "metadata": {},
     "output_type": "execute_result"
    },
    {
     "data": {
      "image/png": "[encoded data removed]",
      "text/plain": [
       "<Figure size 432x288 with 1 Axes>"
      ]
     },
     "metadata": {
      "needs_background": "light"
     },
     "output_type": "display_data"
    }
   ],
   "source": [
    "%matplotlib inline\n",
    "\n",
    "import matplotlib.pyplot as plt\n",
    "x = np.arange(-20., 20., 0.2)\n",
    "y = sigmoid(x)\n",
    "plt.plot(x, y)"
   ]
  },
  {
   "cell_type": "markdown",
   "metadata": {},
   "source": [
    "### Loss Function\n",
    "What we use in this example is cross-entropy loss.\n",
    "After averaging over a training set of $ m $ examples."
   ]
  },
  {
   "cell_type": "code",
   "execution_count": 24,
   "metadata": {},
   "outputs": [],
   "source": [
    "def loss(Y, Y_hat):\n",
    "    L_sum = np.sum(np.multiply(Y, np.log(Y_hat)))\n",
    "    m = Y.shape[1]\n",
    "    L = -(1./m) * L_sum\n",
    "\n",
    "    return L"
   ]
  },
  {
   "cell_type": "markdown",
   "metadata": {},
   "source": [
    "### Training step, Forward pass and back propagation\n",
    "\n",
    "#### Forward pass\n",
    "The forward pass on a single example $x$ executes the following computation on each layer of Neural Networks:"
   ]
  },
  {
   "cell_type": "code",
   "execution_count": 25,
   "metadata": {},
   "outputs": [],
   "source": [
    "def feed_forward(X, params):\n",
    "    \"\"\"\n",
    "    feed forward network: 2layer neural net\n",
    "    inputs:\n",
    "        params: dictionary contains all the weights and biases\n",
    "    return:\n",
    "        cache: a dictionary contains all the fully connected units and activations\n",
    "    \"\"\"\n",
    "    cache = {}\n",
    "\n",
    "    # Z1 = W1.dot(x) + b1\n",
    "    cache[\"Z1\"] = np.matmul(params[\"W1\"], X) + params[\"b1\"]\n",
    "\n",
    "    # A1 = sigmoid(Z1)\n",
    "    cache[\"A1\"] = sigmoid(cache[\"Z1\"])\n",
    "\n",
    "    # Z2 = W2.dot(A1) + b2\n",
    "    cache[\"Z2\"] = np.matmul(params[\"W2\"], cache[\"A1\"]) + params[\"b2\"]\n",
    "\n",
    "    # A2 = softmax(Z2)\n",
    "    cache[\"A2\"] = softmax(cache[\"Z2\"])\n",
    "\n",
    "    return cache"
   ]
  },
  {
   "cell_type": "markdown",
   "metadata": {},
   "source": [
    "#### Back Propagation\n",
    "Back propagation is actually a fancy name of chain rules. \n",
    "\n",
    "Backpropagation is based around four fundamental equations. Together, those equations give us a way of computing both the error $\\delta^l$ and the gradient of the cost function.\n",
    "\n",
    "An equation for the error in the output layer, $\\delta^L$:\n",
    "\\begin{eqnarray} \n",
    "  \\delta^L_j = \\frac{\\partial C}{\\partial a^L_j} \\sigma'(z^L_j).\n",
    "\\tag{BP1}\\end{eqnarray}\n",
    "\n",
    "An equation for the error $\\delta^l$ in terms of the error in the next layer, $\\delta^{l+1}$:\n",
    "\\begin{eqnarray} \n",
    "  \\delta^l = ((w^{l+1})^T \\delta^{l+1}) \\odot \\sigma'(z^l),\n",
    "\\tag{BP2}\\end{eqnarray}\n",
    "\n",
    "An equation for the rate of change of the cost with respect to any bias in the network:\n",
    "\\begin{eqnarray}  \\frac{\\partial C}{\\partial b^l_j} =\n",
    "  \\delta^l_j.\n",
    "\\tag{BP3}\\end{eqnarray}\n",
    "\n",
    "An equation for the rate of change of the cost with respect to any weight in the network:\n",
    "\n",
    "\\begin{eqnarray} \n",
    "  \\frac{\\partial C}{\\partial w^l_{jk}} = a^{l-1}_k \\delta^l_j.\n",
    "\\tag{BP4}\n",
    "\\end{eqnarray}"
   ]
  },
  {
   "cell_type": "markdown",
   "metadata": {},
   "source": [
    "<div class=\"alert alert-block alert-success\">\n",
    "<b>How backpropagation works:</b> Check out http://neuralnetworksanddeeplearning.com/chap2.html\n",
    "    <b>Great introduction with intuitive interpretation!</b>\n",
    "</div>"
   ]
  },
  {
   "cell_type": "code",
   "execution_count": 26,
   "metadata": {},
   "outputs": [],
   "source": [
    "def back_propagate(X, Y, params, cache, m_batch):\n",
    "    \"\"\"\n",
    "    back propagation\n",
    "\n",
    "    inputs:\n",
    "        params: dictionary contains all the weights and biases\n",
    "        cache: dictionary contains all the fully connected units and activations\n",
    "\n",
    "    return:\n",
    "        grads: dictionary contains the gradients of corresponding weights and biases\n",
    "    \"\"\"\n",
    "    # error at last layer\n",
    "    dZ2 = cache[\"A2\"] - Y\n",
    "\n",
    "    # gradients at last layer (Py2 need 1. to transform to float)\n",
    "    dW2 = (1. / m_batch) * np.matmul(dZ2, cache[\"A1\"].T)\n",
    "    db2 = (1. / m_batch) * np.sum(dZ2, axis=1, keepdims=True)\n",
    "\n",
    "    # back propagate through first layer\n",
    "    dA1 = np.matmul(params[\"W2\"].T, dZ2)\n",
    "    dZ1 = dA1 * sigmoid(cache[\"Z1\"]) * (1 - sigmoid(cache[\"Z1\"]))\n",
    "\n",
    "    # gradients at first layer (Py2 need 1. to transform to float)\n",
    "    dW1 = (1. / m_batch) * np.matmul(dZ1, X.T)\n",
    "    db1 = (1. / m_batch) * np.sum(dZ1, axis=1, keepdims=True)\n",
    "\n",
    "    grads = {\"dW1\": dW1, \"db1\": db1, \"dW2\": dW2, \"db2\": db2}\n",
    "\n",
    "    return grads"
   ]
  },
  {
   "cell_type": "markdown",
   "metadata": {},
   "source": [
    "#### Training and Hyper parameter setup\n",
    "Training process can be simplified as a loop forward pass -> compute loss -> back propagation -> update weights and bias -> forward pass"
   ]
  },
  {
   "cell_type": "code",
   "execution_count": 39,
   "metadata": {},
   "outputs": [
    {
     "data": {
      "text/plain": [
       "(784, 60000)"
      ]
     },
     "execution_count": 39,
     "metadata": {},
     "output_type": "execute_result"
    }
   ],
   "source": [
    "X_train.shape"
   ]
  },
  {
   "cell_type": "code",
   "execution_count": 56,
   "metadata": {},
   "outputs": [],
   "source": [
    "batch_size = 64\n",
    "epochs = 100\n",
    "lr = 0.01\n",
    "batches = int(X_train.shape[1]/64)\n",
    "history_loss_train = []"
   ]
  },
  {
   "cell_type": "code",
   "execution_count": 57,
   "metadata": {},
   "outputs": [
    {
     "name": "stdout",
     "output_type": "stream",
     "text": [
      "Epoch 1: training loss = 1.623204380193469, test loss = 1.6113645849504843\n",
      "Epoch 2: training loss = 1.0959083488410803, test loss = 1.0781490074095392\n",
      "Epoch 3: training loss = 0.8266707391291508, test loss = 0.8079428792725178\n",
      "Epoch 4: training loss = 0.6824468154255389, test loss = 0.6638398415483551\n",
      "Epoch 5: training loss = 0.5946645526027842, test loss = 0.5762846175601509\n",
      "Epoch 6: training loss = 0.5360955586482143, test loss = 0.5180131832685556\n",
      "Epoch 7: training loss = 0.49410086367875, test loss = 0.47631394996472376\n",
      "Epoch 8: training loss = 0.46238275985059424, test loss = 0.44460446112276836\n",
      "Epoch 9: training loss = 0.4381516311528761, test loss = 0.42087858725859145\n",
      "Epoch 10: training loss = 0.41852581519452364, test loss = 0.4016330446851611\n",
      "Epoch 11: training loss = 0.4023785909182574, test loss = 0.3858861640289548\n",
      "Epoch 12: training loss = 0.3891534397888373, test loss = 0.37307861117976704\n",
      "Epoch 13: training loss = 0.3775934111408165, test loss = 0.36232356529689125\n",
      "Epoch 14: training loss = 0.36772712286599335, test loss = 0.3526641770576827\n",
      "Epoch 15: training loss = 0.3591008407370659, test loss = 0.3449188951873443\n",
      "Epoch 16: training loss = 0.351566992555923, test loss = 0.33733153755875794\n",
      "Epoch 17: training loss = 0.34459859536126075, test loss = 0.33115725474301466\n",
      "Epoch 18: training loss = 0.3385478963097311, test loss = 0.32545507129499374\n",
      "Epoch 19: training loss = 0.33272230970119615, test loss = 0.32004451200808715\n",
      "Epoch 20: training loss = 0.3274815878703693, test loss = 0.3150559292206987\n",
      "Epoch 21: training loss = 0.3228704886551837, test loss = 0.31066309478658044\n",
      "Epoch 22: training loss = 0.3182691994788282, test loss = 0.30661651499180476\n",
      "Epoch 23: training loss = 0.3139994434091194, test loss = 0.3025475112905915\n",
      "Epoch 24: training loss = 0.31025789488523114, test loss = 0.299496782436225\n",
      "Epoch 25: training loss = 0.3064060623587297, test loss = 0.29574636896859485\n",
      "Epoch 26: training loss = 0.3028955771171927, test loss = 0.29281432854858086\n",
      "Epoch 27: training loss = 0.2995746514602135, test loss = 0.28951437704322547\n",
      "Epoch 28: training loss = 0.29643285131422675, test loss = 0.2869070049036613\n",
      "Epoch 29: training loss = 0.29349748376851126, test loss = 0.28426889977130776\n",
      "Epoch 30: training loss = 0.2905199089596962, test loss = 0.2814574427037577\n",
      "Epoch 31: training loss = 0.28766773784147237, test loss = 0.278578039998825\n",
      "Epoch 32: training loss = 0.28486736265576856, test loss = 0.27647176611389923\n",
      "Epoch 33: training loss = 0.2822185920834213, test loss = 0.2742530447527963\n",
      "Epoch 34: training loss = 0.27965136640114424, test loss = 0.27202310283795256\n",
      "Epoch 35: training loss = 0.2772327501225555, test loss = 0.26958672836673997\n",
      "Epoch 36: training loss = 0.27474085799177717, test loss = 0.2674394546615231\n",
      "Epoch 37: training loss = 0.2723886695137012, test loss = 0.26528132949066036\n",
      "Epoch 38: training loss = 0.2701085160307339, test loss = 0.26313920144440905\n",
      "Epoch 39: training loss = 0.267925097326937, test loss = 0.2616066430245368\n",
      "Epoch 40: training loss = 0.2656765892006827, test loss = 0.25926969263254057\n",
      "Epoch 41: training loss = 0.26346215007999446, test loss = 0.257311232656733\n",
      "Epoch 42: training loss = 0.26150167725624096, test loss = 0.2553084485247569\n",
      "Epoch 43: training loss = 0.25931234499426487, test loss = 0.25377159747845296\n",
      "Epoch 44: training loss = 0.25727299371689033, test loss = 0.2519615799108455\n",
      "Epoch 45: training loss = 0.2552794591959232, test loss = 0.25041149594926354\n",
      "Epoch 46: training loss = 0.2533532004249513, test loss = 0.24841083346130738\n",
      "Epoch 47: training loss = 0.2515231859821616, test loss = 0.24693088494183846\n",
      "Epoch 48: training loss = 0.24952348503363142, test loss = 0.24519265280261154\n",
      "Epoch 49: training loss = 0.24767712757542956, test loss = 0.2432790698598587\n",
      "Epoch 50: training loss = 0.24570913732533467, test loss = 0.24181748837941774\n",
      "Epoch 51: training loss = 0.2438496431102163, test loss = 0.2399088584100252\n",
      "Epoch 52: training loss = 0.24205667640201256, test loss = 0.23824703754944865\n",
      "Epoch 53: training loss = 0.2402420102423933, test loss = 0.23674048264346562\n",
      "Epoch 54: training loss = 0.23853895501323605, test loss = 0.23530448653516883\n",
      "Epoch 55: training loss = 0.2368688234350297, test loss = 0.23358046482125658\n",
      "Epoch 56: training loss = 0.23509428532912008, test loss = 0.2321120967103418\n",
      "Epoch 57: training loss = 0.23371680707461293, test loss = 0.2310780066818638\n",
      "Epoch 58: training loss = 0.2317293502893233, test loss = 0.22894884860576614\n",
      "Epoch 59: training loss = 0.23016501212226528, test loss = 0.22754922899718577\n",
      "Epoch 60: training loss = 0.22853734487427768, test loss = 0.22627095902966043\n",
      "Epoch 61: training loss = 0.22707427031272218, test loss = 0.22457920381738264\n",
      "Epoch 62: training loss = 0.22556975824662254, test loss = 0.22342348245175897\n",
      "Epoch 63: training loss = 0.22394016978587003, test loss = 0.22214378451809072\n",
      "Epoch 64: training loss = 0.22240119884035103, test loss = 0.22006510025665185\n",
      "Epoch 65: training loss = 0.22080130371365642, test loss = 0.2191556871375896\n",
      "Epoch 66: training loss = 0.21934927095481174, test loss = 0.21750881442399947\n",
      "Epoch 67: training loss = 0.2178467928192313, test loss = 0.21627573863046223\n",
      "Epoch 68: training loss = 0.21656956422352497, test loss = 0.21533207396738813\n",
      "Epoch 69: training loss = 0.21508849204486555, test loss = 0.21372939943445154\n",
      "Epoch 70: training loss = 0.21370827505579276, test loss = 0.21225001599296872\n",
      "Epoch 71: training loss = 0.21225320443110343, test loss = 0.21144524543831658\n",
      "Epoch 72: training loss = 0.2108885002974858, test loss = 0.2102776562763972\n",
      "Epoch 73: training loss = 0.20954210064800713, test loss = 0.2087756764993586\n",
      "Epoch 74: training loss = 0.208194835808494, test loss = 0.20761550860818484\n",
      "Epoch 75: training loss = 0.20706684437003592, test loss = 0.20648573570030354\n",
      "Epoch 76: training loss = 0.205624963775563, test loss = 0.205096640239443\n",
      "Epoch 77: training loss = 0.20438653907990292, test loss = 0.20426750502243504\n",
      "Epoch 78: training loss = 0.20311977679491527, test loss = 0.2027800387908222\n",
      "Epoch 79: training loss = 0.20182033645409317, test loss = 0.2017654254690189\n",
      "Epoch 80: training loss = 0.2005871946954701, test loss = 0.20055084601284986\n",
      "Epoch 81: training loss = 0.19939827519673903, test loss = 0.1995667893531613\n",
      "Epoch 82: training loss = 0.19824643291696187, test loss = 0.19856482845564033\n",
      "Epoch 83: training loss = 0.19701123703709778, test loss = 0.1974063086370404\n",
      "Epoch 84: training loss = 0.1959129722558054, test loss = 0.19624650081959166\n",
      "Epoch 85: training loss = 0.1947552009834779, test loss = 0.19510139015966296\n",
      "Epoch 86: training loss = 0.19358303338358793, test loss = 0.1941810905892786\n",
      "Epoch 87: training loss = 0.19242753647297092, test loss = 0.19303890874966217\n",
      "Epoch 88: training loss = 0.19135238457346537, test loss = 0.1922042558615807\n",
      "Epoch 89: training loss = 0.1902226439919596, test loss = 0.1910884036623716\n",
      "Epoch 90: training loss = 0.18917133039844, test loss = 0.1900239652532282\n",
      "Epoch 91: training loss = 0.18816289772771091, test loss = 0.18923456213216158\n",
      "Epoch 92: training loss = 0.1870551522737503, test loss = 0.18825794740338042\n",
      "Epoch 93: training loss = 0.18611841619640812, test loss = 0.18767239229974655\n",
      "Epoch 94: training loss = 0.1850060904345, test loss = 0.18645013092181048\n",
      "Epoch 95: training loss = 0.18391732556251747, test loss = 0.18539911622916957\n",
      "Epoch 96: training loss = 0.18298730458387677, test loss = 0.18439692364437568\n",
      "Epoch 97: training loss = 0.18201993841394323, test loss = 0.18388391986140576\n",
      "Epoch 98: training loss = 0.18105105508679187, test loss = 0.18281725473643523\n",
      "Epoch 99: training loss = 0.1799979375810235, test loss = 0.18172077248659857\n",
      "Epoch 100: training loss = 0.1790280688337282, test loss = 0.18093950914387927\n"
     ]
    }
   ],
   "source": [
    "for i in range(epochs):\n",
    "    # shuffle training set\n",
    "    permutation = np.random.permutation(X_train.shape[1])\n",
    "    x_train_shuffled = X_train[:, permutation]\n",
    "    y_train_shuffled = Y_train[:, permutation]\n",
    "\n",
    "    for j in range(batches):\n",
    "        # get mini-batch\n",
    "        begin = j * batch_size\n",
    "        end = min(begin + batch_size, X_train.shape[1] - 1)\n",
    "        X = x_train_shuffled[:, begin:end]\n",
    "        Y = y_train_shuffled[:, begin:end]\n",
    "        m_batch = end - begin\n",
    "\n",
    "        # forward and backward\n",
    "        cache = feed_forward(X, params)\n",
    "        grads = back_propagate(X, Y, params, cache, m_batch)\n",
    "\n",
    "        # gradient descent\n",
    "        params[\"W1\"] = params[\"W1\"] - lr * grads[\"dW1\"] # dW1\n",
    "        params[\"b1\"] = params[\"b1\"] - lr * grads[\"db1\"] #db1\n",
    "        params[\"W2\"] = params[\"W2\"] - lr * grads[\"dW2\"] #dW2\n",
    "        params[\"b2\"] = params[\"b2\"] - lr * grads[\"db2\"] #db2\n",
    "\n",
    "    # forward pass on training set\n",
    "    cache = feed_forward(X_train, params)\n",
    "    train_loss = loss(Y_train, cache[\"A2\"])\n",
    "    history_loss_train.append(train_loss)\n",
    "    # forward pass on test set\n",
    "    cache = feed_forward(X_test, params)\n",
    "    test_loss = loss(Y_test, cache[\"A2\"])\n",
    "    print(\"Epoch {}: training loss = {}, test loss = {}\".format(\n",
    "        i + 1, train_loss, test_loss))"
   ]
  },
  {
   "cell_type": "markdown",
   "metadata": {},
   "source": [
    "### Evaluation"
   ]
  },
  {
   "cell_type": "code",
   "execution_count": 58,
   "metadata": {},
   "outputs": [
    {
     "data": {
      "text/plain": [
       "[<matplotlib.lines.Line2D at 0x7fbfa6037c50>]"
      ]
     },
     "execution_count": 58,
     "metadata": {},
     "output_type": "execute_result"
    },
    {
     "data": {
      "image/png": "[encoded data removed]",
      "text/plain": [
       "<Figure size 432x288 with 1 Axes>"
      ]
     },
     "metadata": {
      "needs_background": "light"
     },
     "output_type": "display_data"
    }
   ],
   "source": [
    "plt.plot(len(history_loss_train)), history_loss_train)"
   ]
  },
  {
   "cell_type": "code",
   "execution_count": 67,
   "metadata": {},
   "outputs": [],
   "source": [
    "# TODO move to utils.py\n",
    "def onehot_softmax(out):\n",
    "    \"\"\"convert output of softmax to onehot encoding\"\"\"\n",
    "    for \n",
    "    one_hot = np.zeros_like(out)\n",
    "    one_hot[np.argmax(out)] = 1\n",
    "    return one_hot"
   ]
  },
  {
   "cell_type": "code",
   "execution_count": 81,
   "metadata": {},
   "outputs": [],
   "source": [
    "out = feed_forward(X_test, params)[\"A2\"]\n",
    "out_one_hot = np.apply_along_axis(onehot_softmax, axis=1, arr=out.T)"
   ]
  },
  {
   "cell_type": "code",
   "execution_count": 82,
   "metadata": {},
   "outputs": [
    {
     "name": "stdout",
     "output_type": "stream",
     "text": [
      "              precision    recall  f1-score   support\n",
      "\n",
      "           0       0.96      0.99      0.97       980\n",
      "           1       0.97      0.98      0.98      1135\n",
      "           2       0.95      0.94      0.94      1032\n",
      "           3       0.93      0.95      0.94      1010\n",
      "           4       0.94      0.95      0.94       982\n",
      "           5       0.95      0.91      0.93       892\n",
      "           6       0.95      0.96      0.95       958\n",
      "           7       0.95      0.94      0.95      1028\n",
      "           8       0.94      0.93      0.93       974\n",
      "           9       0.93      0.93      0.93      1009\n",
      "\n",
      "   micro avg       0.95      0.95      0.95     10000\n",
      "   macro avg       0.95      0.95      0.95     10000\n",
      "weighted avg       0.95      0.95      0.95     10000\n",
      " samples avg       0.95      0.95      0.95     10000\n",
      "\n"
     ]
    }
   ],
   "source": [
    "from sklearn.metrics import classification_report\n",
    "\n",
    "print(classification_report(Y_test.T, out_one_hot))"
   ]
  },
  {
   "cell_type": "markdown",
   "metadata": {},
   "source": [
    "<div class=\"alert alert-block alert-info\">\n",
    "<b>Exercise:</b> Writing and training a perceptron with Momentum </div>"
   ]
  },
  {
   "cell_type": "markdown",
   "metadata": {},
   "source": [
    "### References\n",
    "- [Towards datascience post](https://towardsdatascience.com/building-an-artificial-neural-network-using-pure-numpy-3fe21acc5815)\n",
    "- [Neural net from scratch](https://zhenye-na.github.io/2018/09/09/build-neural-network-with-mnist-from-scratch.html)\n",
    "- [How backpropagation works](http://neuralnetworksanddeeplearning.com/chap2.html)"
   ]
  }
 ],
 "metadata": {
  "kernelspec": {
   "display_name": "gantutorial",
   "language": "python",
   "name": "gantutorial"
  },
  "language_info": {
   "codemirror_mode": {
    "name": "ipython",
    "version": 3
   },
   "file_extension": ".py",
   "mimetype": "text/x-python",
   "name": "python",
   "nbconvert_exporter": "python",
   "pygments_lexer": "ipython3",
   "version": "3.7.4"
  }
 },
 "nbformat": 4,
 "nbformat_minor": 4
}
